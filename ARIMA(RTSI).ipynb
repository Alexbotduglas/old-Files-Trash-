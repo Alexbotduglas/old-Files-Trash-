{
 "cells": [
  {
   "cell_type": "code",
   "execution_count": null,
   "metadata": {},
   "outputs": [],
   "source": [
    "#Построение модели ARIMA для RTSI\n"
   ]
  },
  {
   "cell_type": "markdown",
   "metadata": {},
   "source": [
    "# **Построение модели ARIMA для RTSI**"
   ]
  },
  {
   "cell_type": "markdown",
   "metadata": {},
   "source": [
    "Известны данные по индексу RTSI за 2017-2018 год, необходимо построить прогноз на следующее полугодие 2019 года."
   ]
  },
  {
   "cell_type": "code",
   "execution_count": 67,
   "metadata": {},
   "outputs": [
    {
     "name": "stdout",
     "output_type": "stream",
     "text": [
      "Populating the interactive namespace from numpy and matplotlib\n"
     ]
    },
    {
     "name": "stderr",
     "output_type": "stream",
     "text": [
      "C:\\ProgramData\\Anaconda3\\lib\\site-packages\\IPython\\core\\magics\\pylab.py:160: UserWarning: pylab import has clobbered these variables: ['product', 'random', 'load']\n",
      "`%matplotlib` prevents importing * from pylab and numpy\n",
      "  \"\\n`%matplotlib` prevents importing * from pylab and numpy\"\n"
     ]
    }
   ],
   "source": [
    "%pylab inline\n",
    "import pandas as pd\n",
    "from scipy import stats\n",
    "import statsmodels.api as sm\n",
    "import matplotlib.pyplot as plt\n",
    "import warnings\n",
    "import urllib.request\n",
    "import datetime\n",
    "import time\n",
    "import random"
   ]
  },
  {
   "cell_type": "markdown",
   "metadata": {},
   "source": [
    "Введем тикеры, акции, входящие в индекс, число акций и веса. Далее произведем импорт цен акций. "
   ]
  },
  {
   "cell_type": "code",
   "execution_count": null,
   "metadata": {},
   "outputs": [],
   "source": [
    "tickers={'ABRD':82460,'AESL':181867,'AFKS':19715,'AFLT':29,'AGRO':399716,'AKRN':17564,'ALBK':82616,'ALNU':81882,'ALRS':81820,'AMEZ':20702,'APTK':13855,'AQUA':35238,'ARMD':19676,'ARSA':19915,'ASSB':16452,'AVAN':82843,'AVAZ':39,'AVAZP':40,'BANE':81757,'BANEP':81758,'BGDE':175840,'BISV':35242,'BISVP':35243,'BLNG':21078,'BRZL':81901,'BSPB':20066,'CBOM':420694,'CHEP':20999,'CHGZ':81933,'CHKZ':21000,'CHMF':16136,'CHMK':21001,'CHZN':19960,'CLSB':16712,'CLSBP':16713,'CNTL':21002,'CNTLP':81575,'DASB':16825,'DGBZ':17919,'DIOD':35363,'DIXY':18564,'DVEC':19724,'DZRD':74744,'DZRDP':74745,'ELTZ':81934,'ENRU':16440,'EPLN':451471,'ERCO':81935,'FEES':20509,'FESH':20708,'FORTP':82164,'GAZA':81997,'GAZAP':81998,'GAZC':81398,'GAZP':16842,'GAZS':81399,'GAZT':82115,'GCHE':20125,'GMKN':795,'GRAZ':16610,'GRNT':449114,'GTLC':152876,'GTPR':175842,'GTSS':436120,'HALS':17698,'HIMC':81939,'HIMCP':81940,'HYDR':20266,'IDJT':388276,'IDVP':409486,'IGST':81885,'IGST03':81886,'IGSTP':81887,'IRAO':20516,'IRGZ':9,'IRKT':15547,'ISKJ':17137,'JNOS':15722,'JNOSP':15723,'KAZT':81941,'KAZTP':81942,'KBSB':19916,'KBTK':35285,'KCHE':20030,'KCHEP':20498,'KGKC':83261,'KGKCP':152350,'KLSB':16329,'KMAZ':15544,'KMEZ':22525,'KMTZ':81903,'KOGK':20710,'KRKN':81891,'KRKNP':81892,'KRKO':81905,'KRKOP':81906,'KROT':510,'KROTP':511,'KRSB':20912,'KRSBP':20913,'KRSG':15518,'KSGR':75094,'KTSB':16284,'KTSBP':16285,'KUBE':522,'KUNF':81943,'KUZB':83165,'KZMS':17359,'KZOS':81856,'KZOSP':81857,'LIFE':74584,'LKOH':8,'LNTA':385792,'LNZL':21004,'LNZLP':22094,'LPSB':16276,'LSNG':31,'LSNGP':542,'LSRG':19736,'LVHK':152517,'MAGE':74562,'MAGEP':74563,'MAGN':16782,'MERF':20947,'MFGS':30,'MFGSP':51,'MFON':152516,'MGNT':17086,'MGNZ':20892,'MGTS':12984,'MGTSP':12983,'MGVM':81829,'MISB':16330,'MISBP':16331,'MNFD':80390,'MOBB':82890,'MOEX':152798,'MORI':81944,'MOTZ':21116,'MRKC':20235,'MRKK':20412,'MRKP':20107,'MRKS':20346,'MRKU':20402,'MRKV':20286,'MRKY':20681,'MRKZ':20309,'MRSB':16359,'MSNG':6,'MSRS':16917,'MSST':152676,'MSTT':74549,'MTLR':21018,'MTLRP':80745,'MTSS':15523,'MUGS':81945,'MUGSP':81946,'MVID':19737,'NAUK':81992,'NFAZ':81287,'NKHP':450432,'NKNC':20100,'NKNCP':20101,'NKSH':81947,'NLMK':17046,'NMTP':19629,'NNSB':16615,'NNSBP':16616,'NPOF':81858,'NSVZ':81929,'NVTK':17370,'ODVA':20737,'OFCB':80728,'OGKB':18684,'OMSH':22891,'OMZZP':15844,'OPIN':20711,'OSMP':21006,'OTCP':407627,'PAZA':81896,'PHOR':81114,'PHST':19717,'PIKK':18654,'PLSM':81241,'PLZL':17123,'PMSB':16908,'PMSBP':16909,'POLY':175924,'PRFN':83121,'PRIM':17850,'PRIN':22806,'PRMB':80818,'PRTK':35247,'PSBR':152320,'QIWI':181610,'RASP':17713,'RBCM':74779,'RDRB':181755,'RGSS':181934,'RKKE':20321,'RLMN':152677,'RLMNP':388313,'RNAV':66644,'RODNP':66693,'ROLO':181316,'ROSB':16866,'ROSN':17273,'ROST':20637,'RSTI':20971,'RSTIP':20972,'RTGZ':152397,'RTKM':7,'RTKMP':15,'RTSB':16783,'RTSBP':16784,'RUAL':414279,'RUALR':74718,'RUGR':66893,'RUSI':81786,'RUSP':20712,'RZSB':16455,'SAGO':445,'SAGOP':70,'SARE':11,'SAREP':24,'SBER':3,'SBERP':23,'SELG':81360,'SELGP':82610,'SELL':21166,'SIBG':436091,'SIBN':2,'SKYC':83122,'SNGS':4,'SNGSP':13,'STSB':20087,'STSBP':20088,'SVAV':16080,'SYNG':19651,'SZPR':22401,'TAER':80593,'TANL':81914,'TANLP':81915,'TASB':16265,'TASBP':16266,'TATN':825,'TATNP':826,'TGKA':18382,'TGKB':17597,'TGKBP':18189,'TGKD':18310,'TGKDP':18391,'TGKN':18176,'TGKO':81899,'TNSE':420644,'TORS':16797,'TORSP':16798,'TRCN':74561,'TRMK':18441,'TRNFP':1012,'TTLK':18371,'TUCH':74746,'TUZA':20716,'UCSS':175781,'UKUZ':20717,'UNAC':22843,'UNKL':82493,'UPRO':18584,'URFD':75124,'URKA':19623,'URKZ':82611,'USBN':81953,'UTAR':15522,'UTII':81040,'UTSY':419504,'UWGN':414560,'VDSB':16352,'VGSB':16456,'VGSBP':16457,'VJGZ':81954,'VJGZP':81955,'VLHZ':17257,'VRAO':20958,'VRAOP':20959,'VRSB':16546,'VRSBP':16547,'VSMO':15965,'VSYD':83251,'VSYDP':83252,'VTBR':19043,'VTGK':19632,'VTRS':82886,'VZRZ':17068,'VZRZP':17067,'WTCM':19095,'WTCMP':19096,'YAKG':81917,'YKEN':81766,'YKENP':81769,'YNDX':388383,'YRSB':16342,'YRSBP':16343,'ZHIV':181674,'ZILL':81918,'ZMZN':556,'ZMZNP':603,'ZVEZ':82001,'FIVE':7,'DSKY':8,'SFIN':9,'RNFT':9}\n",
    "# Акции, входящие в индекс\n",
    "RTSI=['GAZP','SBER','SBERP','LKOH','GMKN','YNDX','NVTK','TATN','TATNP','ROSN','SNGS','SNGSP','MGNT','FIVE','MTSS','POLY','ALRS','CHMF','PLZL','IRAO','NLMK','VTBR','MOEX','PHOR','TRNFP','MAGN','RTKM','RUAL','AFLT','PIKK','HYDR','FEES','AFKS','LSRG','CBOM','UPRO','DSKY','LNTA','SFIN','RNFT','MVID']\n",
    "# Число акций\n",
    "Q=[23673512900, 21586948000, 1000000000, 715000000, 158245476, 292567655, 3036306000, 2178690700, 147508500, 10598177817, 35725994705, 7701998235, 101911355, 271572872, 1998381575, 470183404, 7364965630, 837718660, 133561119, 104400000000, 5993227240, 12960541337338, 2276401458, 129500000, 1554875, 11174330000, 2574914954, 15193014862, 1110616299, 660497344, 426288813551, 1274665323063, 9650000000, 103030215, 27079709866, 63048706145, 739000000, 487929660, 111637791, 294120000, 179768227]\n",
    "# Веса в %\n",
    "W=[15.00,\t13.84,\t1.16,\t13.43,\t6.26,\t5.31,\t5.31,\t4.50,\t0.81,\t4.41,\t2.28,\t1.68,\t2.48,\t2.38,\t2.22,\t1.90,\t1.73,\t1.56,\t1.52,\t1.37,\t1.33,\t1.26,\t1.16,\t0.77,\t0.69,\t0.69,\t0.62,\t0.60,\t0.46,\t0.43,\t0.41,\t0.38,\t0.34,\t0.31,\t0.27,\t0.25,\t0.21,\t0.21,\t0.19,\t0.14,\t0.13]\n",
    "\n",
    "N=41\n",
    "\n",
    "\n",
    "# Формируем дату и время\n",
    "def dtformed(d,mn,y,h=0,m=0,s=0):\n",
    "    return datetime.datetime(y,mn,d,h,m,s)\n",
    "\n",
    "\n",
    "# Возвращает ID инструмента по его имени (внутренная функция)\n",
    "def getID(name):\n",
    "    return tickers[name]\n",
    "\n",
    "# Выгрузка данных\n",
    "def load(name, dtstart=datetime.datetime.today(),dtfin=datetime.datetime.today(),step=8, market=1, MSOR=1, mstimever=0, sourse='finam',moment='close'):\n",
    "    # market - инструмент\n",
    "    # 0 — начала свечи, 1 — окончания свечи\n",
    "    # mstimever - не московское — mstimever=0; московское — mstime='on', mstimever='1'\n",
    "    #  период котировок (тики, 1 мин., 5 мин., 10 мин., 15 мин., 30 мин., 1 час, 1 день, 1 неделя, 1 месяц)\n",
    "    id =getID(name) # id инстурмента\n",
    "    e = '.txt' # расширение получаемого файла: .txt либо .csv\n",
    "    yf = str(dtstart.year)\n",
    "    yt = str(dtfin.year)\n",
    "    month_start = str(dtstart.month)\n",
    "    day_start = str(dtstart.day)\n",
    "    month_end = str(dtfin.month)\n",
    "    day_end = str(dtfin.day)\n",
    "    dtf = '3' # формат даты (1 — ггггммдд, 2 — ггммдд, 3 — ддммгг, 4 — дд/мм/гг, 5 — мм/дд/гг)\n",
    "    tmf = '1' # формат времени (1 — ччммсс, 2 — ччмм, 3 — чч: мм: сс, 4 — чч: мм)\n",
    "    sep = '5' # параметр разделитель полей (1 — запятая (,), 2 — точка (.), 3 — точка с запятой (;), 4 — табуляция (»), 5 — пробел ( ))\n",
    "    sep2 = '1' # параметр разделитель разрядов (1 — нет, 2 — точка (.), 3 — запятая (,), 4 — пробел ( ), 5 — кавычка ('))\n",
    "    datf = '1' # Перечень получаемых данных (1-6)\n",
    "    at = '0' # добавлять заголовок в файл (0 — нет, 1 — да)\n",
    "\n",
    "    year_start = yf[2:]\n",
    "    year_end = yt[2:]\n",
    "    mf = (int(month_start.replace('0', ''))) - 1\n",
    "    mt = (int(month_end.replace('0', ''))) - 1\n",
    "    df = (int(day_start.replace('0', ''))) - 1\n",
    "    dt = (int(day_end.replace('0', ''))) - 1\n",
    "\n",
    "    # Запрос\n",
    "    str1='http://export.finam.ru/' + str(name) + '_' + str(year_start) + str(month_start) + str(\n",
    "            day_start) + '_' + str(year_end) + str(month_end) + str(day_end) + str(e) + '?market=' + str(\n",
    "            market) + '&em=' + str(id) + '&code=' + str(name) + '&apply=0&df=' + str(df) + '&mf=' + str(\n",
    "            mf) + '&yf=' + str(yf) + '&from=' + str(day_start) + '.' + str(month_start) + '.' + str(yf) + '&dt=' + str(\n",
    "            dt) + '&mt=' + str(mt) + '&yt=' + str(yt) + '&to=' + str(day_end) + '.' + str(month_end) + '.' + str(\n",
    "            yt) + '&p=' + str(step) + '&f=' + str(name) + '_' + str(year_start) + str(month_start) + str(\n",
    "            day_start) + '_' + str(year_end) + str(month_end) + str(day_end) + '&e=' + str(e) + '&cn=' + str(\n",
    "            name) + '&dtf=' + str(dtf) + '&tmf=' + str(tmf) + '&MSOR=' + str(MSOR) + '&mstimever=' + str(\n",
    "            mstimever) + '&sep=' + str(sep) + '&sep2=' + str(sep2) + '&datf=' + str(datf) + '&at=' + str(at)\n",
    "    result = urllib.request.urlopen(str1)\n",
    "\n",
    "    # Выделение нужных данных\n",
    "    content = str(result.read())\n",
    "    print(name)\n",
    "    stokelist=content.split(r'\\r\\n')\n",
    "    n=len(stokelist)\n",
    "    price=list()\n",
    "    for k in range(n-1):\n",
    "        stokelist1=stokelist[k].split(' ')\n",
    "        price.append(stokelist1[7])\n",
    "\n",
    "    return price\n",
    "\n",
    "\n",
    "PRICE=[]\n",
    "PRICE1=[]\n",
    "\n",
    "print('Импорт цен акций...')\n",
    "\n",
    "k=0\n",
    "while k<N:\n",
    "    try:\n",
    "        PRICE.append(load(RTSI[k], dtformed(3, 1, 2019), dtformed(31,12,2019)))\n",
    "        k=k+1\n",
    "    except:\n",
    "        continue\n",
    "    finally:\n",
    "        time.sleep(random.randint(1, 2))\n",
    "k=0\n",
    "while k<N:\n",
    "    try:\n",
    "        PRICE1.append(load(RTSI[k], dtformed(3, 1, 2019), dtformed(3, 1, 2020),step=10))\n",
    "        k=k+1\n",
    "    except:\n",
    "        continue\n",
    "    finally:\n",
    "        time.sleep(random.randint(1, 2))\n",
    "\n",
    "\n",
    "L=len(PRICE[0])\n"
   ]
  },
  {
   "cell_type": "markdown",
   "metadata": {},
   "source": [
    "Получим значение индекса "
   ]
  },
  {
   "cell_type": "code",
   "execution_count": null,
   "metadata": {},
   "outputs": [],
   "source": [
    "def getindex(PRICE):\n",
    "    indexat030119 = 1086.8 # Значение индекса на 1-й торговый день 2019 года\n",
    "    s=list()\n",
    "    I=list()\n",
    "    L=len(PRICE[0])\n",
    "    for j in range(L):\n",
    "        s1=0.0\n",
    "        for k in range(N):\n",
    "            s1=s1+Q[k]*float(PRICE[k][j])*(W[k]/100)\n",
    "        s.append(s1)\n",
    "        I.append(indexat030119*s[j]/s[0])\n",
    "    return I\n",
    "\n",
    "\n",
    "Y=getindex(PRICE)\n",
    "Y=np.asarray(Y)"
   ]
  },
  {
   "cell_type": "code",
   "execution_count": null,
   "metadata": {},
   "outputs": [],
   "source": [
    "base = datetime.datetime(2018, 1, 3)\n",
    "X= numpy.array([base + datetime.timedelta(days=i) for i in range(L)])"
   ]
  },
  {
   "cell_type": "markdown",
   "metadata": {},
   "source": [
    "Построим график"
   ]
  },
  {
   "cell_type": "code",
   "execution_count": null,
   "metadata": {},
   "outputs": [],
   "source": [
    "plt.plot(X,Y)\n",
    "plt.ylabel('RTSI')"
   ]
  },
  {
   "cell_type": "code",
   "execution_count": null,
   "metadata": {},
   "outputs": [],
   "source": [
    "df = pd.DataFrame(data=np.stack((X,Y),axis=1),columns=['data','id'])"
   ]
  },
  {
   "cell_type": "code",
   "execution_count": null,
   "metadata": {},
   "outputs": [],
   "source": [
    "df"
   ]
  },
  {
   "cell_type": "markdown",
   "metadata": {},
   "source": [
    "Проверка стационарности и STL-декомпозиция ряда:"
   ]
  },
  {
   "cell_type": "code",
   "execution_count": null,
   "metadata": {},
   "outputs": [],
   "source": [
    "sm.tsa.seasonal_decompose(df.id,period=12).plot()\n",
    "def invboxcox(y,lmbda):\n",
    "   if lmbda == 0:\n",
    "      return(np.exp(y))\n",
    "   else:\n",
    "      return(np.exp(np.log(lmbda*y+1)/lmbda))\n",
    "print(\"Критерий Дики-Фуллера: p=%f\" % sm.tsa.stattools.adfuller(df.id)[1])"
   ]
  },
  {
   "cell_type": "markdown",
   "metadata": {},
   "source": [
    "## **Стабилизация дисперсии**"
   ]
  },
  {
   "cell_type": "markdown",
   "metadata": {},
   "source": [
    "Сделаем преобразование Бокса-Кокса для стабилизации дисперсии:"
   ]
  },
  {
   "cell_type": "code",
   "execution_count": null,
   "metadata": {},
   "outputs": [],
   "source": [
    "df['sales_box'], lmbda = stats.boxcox(pd.to_numeric(df.id))\n",
    "plt.figure(figsize(15,7))\n",
    "df.sales_box.plot()\n",
    "plt.ylabel(u'Transformed RTSI ')\n",
    "print(\"Оптимальный параметр преобразования Бокса-Кокса: %f\" % lmbda)\n",
    "print(\"Критерий Дики-Фуллера: p=%f\" % sm.tsa.stattools.adfuller(df.sales_box)[1])"
   ]
  },
  {
   "cell_type": "markdown",
   "metadata": {},
   "source": [
    "### **Стационарность**"
   ]
  },
  {
   "cell_type": "markdown",
   "metadata": {},
   "source": [
    "Критерий Дики-Фуллера отвергает гипотезу нестационарности, но визуально в данных виден тренд. Попробуем сезонное дифференцирование; сделаем на продифференцированном ряде STL-декомпозицию и проверим стационарность:"
   ]
  },
  {
   "cell_type": "code",
   "execution_count": null,
   "metadata": {},
   "outputs": [],
   "source": [
    "df['sales_box_diff'] = df.sales_box - df.sales_box.shift(12)\n",
    "plt.figure(figsize(15,10))\n",
    "sm.tsa.seasonal_decompose(df.sales_box_diff[12:],period=12).plot()\n",
    "print(\"Критерий Дики-Фуллера: p=%f\" % sm.tsa.stattools.adfuller(df.sales_box_diff[12:])[1])"
   ]
  },
  {
   "cell_type": "code",
   "execution_count": null,
   "metadata": {},
   "outputs": [],
   "source": [
    "df['sales_box_diff2'] = df.sales_box_diff - df.sales_box_diff.shift(1)\n",
    "plt.figure(figsize(15,10))\n",
    "sm.tsa.seasonal_decompose(df.sales_box_diff2[13:],period=12).plot()   \n",
    "print(\"Критерий Дики-Фуллера: p=%f\" % sm.tsa.stattools.adfuller(df.sales_box_diff2[13:])[1])"
   ]
  },
  {
   "cell_type": "code",
   "execution_count": null,
   "metadata": {},
   "outputs": [],
   "source": [
    "ps = range(0, 5)\n",
    "d=1\n",
    "qs = range(0, 3)\n",
    "Ps = range(0, 2)\n",
    "D=1\n",
    "Qs = range(0, 2)"
   ]
  },
  {
   "cell_type": "code",
   "execution_count": null,
   "metadata": {},
   "outputs": [],
   "source": [
    "from itertools import product\n",
    "parameters = product(ps, qs, Ps, Qs)\n",
    "parameters_list = list(parameters)\n",
    "len(parameters_list)\n"
   ]
  },
  {
   "cell_type": "code",
   "execution_count": null,
   "metadata": {},
   "outputs": [],
   "source": [
    "%%time\n",
    "results = []\n",
    "best_aic = float(\"inf\")\n",
    "warnings.filterwarnings('ignore')\n",
    "\n",
    "for param in parameters_list:\n",
    "    #try except нужен, потому что на некоторых наборах параметров модель не обучается\n",
    "    try:\n",
    "        model=sm.tsa.statespace.SARIMAX(df.sales_box, order=(param[0], d, param[1]), \n",
    "                                        seasonal_order=(param[2], D, param[3], 12)).fit(disp=-1)\n",
    "    #выводим параметры, на которых модель не обучается и переходим к следующему набору\n",
    "    except ValueError:\n",
    "        print('wrong parameters:', param)\n",
    "        continue\n",
    "    aic = model.aic\n",
    "    #сохраняем лучшую модель, aic, параметры\n",
    "    if aic < best_aic:\n",
    "        best_model = model\n",
    "        best_aic = aic\n",
    "        best_param = param\n",
    "    results.append([param, model.aic])    \n",
    "    warnings.filterwarnings('default')"
   ]
  },
  {
   "cell_type": "code",
   "execution_count": null,
   "metadata": {},
   "outputs": [],
   "source": [
    "result_table = pd.DataFrame(results)\n",
    "result_table.columns = ['parameters', 'aic']\n",
    "print(result_table.sort_values(by = 'aic', ascending=True).head())"
   ]
  },
  {
   "cell_type": "code",
   "execution_count": null,
   "metadata": {},
   "outputs": [],
   "source": [
    "print(best_model.summary())"
   ]
  },
  {
   "cell_type": "code",
   "execution_count": null,
   "metadata": {},
   "outputs": [],
   "source": [
    "plt.figure(figsize(15,8))\n",
    "plt.subplot(211)\n",
    "best_model.resid[13:].plot()\n",
    "plt.ylabel(u'Residuals')\n",
    "\n",
    "ax = plt.subplot(212)\n",
    "sm.graphics.tsa.plot_acf(best_model.resid[13:].values.squeeze(), lags=48, ax=ax)\n",
    "\n",
    "print(\"Критерий Стьюдента: p=%f\" % stats.ttest_1samp(best_model.resid[13:], 0)[1])\n",
    "print(\"Критерий Дики-Фуллера: p=%f\" % sm.tsa.stattools.adfuller(best_model.resid[13:])[1])"
   ]
  },
  {
   "cell_type": "code",
   "execution_count": null,
   "metadata": {},
   "outputs": [],
   "source": [
    "df['model'] = invboxcox(best_model.fittedvalues, lmbda)\n",
    "plt.figure(figsize(15,7))\n",
    "df.id.plot()\n",
    "df.model[13:].plot(color='r')\n",
    "plt.ylabel('RTSI')\n",
    "pylab.show()"
   ]
  },
  {
   "cell_type": "code",
   "execution_count": null,
   "metadata": {},
   "outputs": [],
   "source": [
    "df2= df[['id']]\n",
    "date_list = [datetime.datetime.strptime(\"2020-06-10\", \"%Y-%m-%d\") + relativedelta(months=x) for x in range(0,36)]\n",
    "future = pd.DataFrame(index=date_list, columns= df2.columns)\n",
    "df2 = pd.concat([df2, future])\n",
    "df2['forecast'] = invboxcox(best_model.predict(start=176, end=211), lmbda)\n",
    "\n",
    "plt.figure(figsize(15,7))\n",
    "df2.id.plot()\n",
    "df2.forecast.plot(color='r')\n",
    "plt.ylabel('RTSI')\n",
    "pylab.show()"
   ]
  },
  {
   "cell_type": "code",
   "execution_count": null,
   "metadata": {},
   "outputs": [],
   "source": []
  },
  {
   "cell_type": "code",
   "execution_count": null,
   "metadata": {},
   "outputs": [],
   "source": []
  },
  {
   "cell_type": "code",
   "execution_count": null,
   "metadata": {},
   "outputs": [],
   "source": []
  },
  {
   "cell_type": "code",
   "execution_count": null,
   "metadata": {},
   "outputs": [],
   "source": []
  }
 ],
 "metadata": {
  "kernelspec": {
   "display_name": "Python 3",
   "language": "python",
   "name": "python3"
  },
  "language_info": {
   "codemirror_mode": {
    "name": "ipython",
    "version": 3
   },
   "file_extension": ".py",
   "mimetype": "text/x-python",
   "name": "python",
   "nbconvert_exporter": "python",
   "pygments_lexer": "ipython3",
   "version": "3.7.6"
  }
 },
 "nbformat": 4,
 "nbformat_minor": 4
}
